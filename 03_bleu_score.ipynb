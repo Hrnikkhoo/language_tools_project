{
  "cells": [
    {
      "cell_type": "code",
      "source": [
        "from nltk.translate.bleu_score import sentence_bleu\n",
        "\n",
        "reference = [\"من از این که یک فنجان  قهوه گرم مینوشم خوشحال هستم.\".split()]\n",
        "generated = \"من از این که قهوه مینوشم خوشحال هستم.\".split()\n",
        "\n",
        "# Compute BLEU score\n",
        "bleu_score = sentence_bleu(reference, generated)\n",
        "bleu_score\n"
      ],
      "metadata": {
        "id": "jt-U-jcKLvMt",
        "outputId": "a25a78ad-529d-422b-ab55-72a991a29bbd",
        "colab": {
          "base_uri": "https://localhost:8080/"
        }
      },
      "execution_count": 3,
      "outputs": [
        {
          "output_type": "execute_result",
          "data": {
            "text/plain": [
              "0.355310106137518"
            ]
          },
          "metadata": {},
          "execution_count": 3
        }
      ]
    },
    {
      "cell_type": "code",
      "source": [
        "reference = [\"من از این که یک فنجان  قهوه گرم مینوشم خوشحال هستم.\".split()]\n",
        "generated = \"من از این که قهوه گرم مینوشم خوشحال هستم.\".split()\n",
        "\n",
        "# Compute BLEU score\n",
        "bleu_score = sentence_bleu(reference, generated)\n",
        "bleu_score\n"
      ],
      "metadata": {
        "id": "fFjIZJN_MkbK",
        "outputId": "b15d2339-2470-4017-dc7d-65b8c40a4b97",
        "colab": {
          "base_uri": "https://localhost:8080/"
        }
      },
      "execution_count": 4,
      "outputs": [
        {
          "output_type": "execute_result",
          "data": {
            "text/plain": [
              "0.598690849764947"
            ]
          },
          "metadata": {},
          "execution_count": 4
        }
      ]
    },
    {
      "cell_type": "code",
      "source": [
        "reference = [\"من از این که یک فنجان  قهوه گرم مینوشم خوشحال هستم.\".split()]\n",
        "generated = \"من از این که یک فنجان قهوه مینوشم خوشحال هستم.\".split()\n",
        "\n",
        "# Compute BLEU score\n",
        "bleu_score = sentence_bleu(reference, generated)\n",
        "bleu_score\n"
      ],
      "metadata": {
        "id": "2rU7339jM4ct",
        "outputId": "1707491b-174b-46f9-b235-78e56ce671ca",
        "colab": {
          "base_uri": "https://localhost:8080/"
        }
      },
      "execution_count": 5,
      "outputs": [
        {
          "output_type": "execute_result",
          "data": {
            "text/plain": [
              "0.710866788975034"
            ]
          },
          "metadata": {},
          "execution_count": 5
        }
      ]
    },
    {
      "cell_type": "code",
      "source": [
        "reference = [\"من از این که یک فنجان  قهوه گرم مینوشم خوشحال هستم.\".split()]\n",
        "generated = \"من از این که یک فنجان قهوه گرم مینوشم خوشحال هستم.\".split()\n",
        "\n",
        "# Compute BLEU score\n",
        "bleu_score = sentence_bleu(reference, generated)\n",
        "bleu_score\n"
      ],
      "metadata": {
        "id": "lUJtNhf6NBWZ",
        "outputId": "2e0f2584-9403-4a55-8ecd-317cd281da49",
        "colab": {
          "base_uri": "https://localhost:8080/"
        }
      },
      "execution_count": 10,
      "outputs": [
        {
          "output_type": "execute_result",
          "data": {
            "text/plain": [
              "1.0"
            ]
          },
          "metadata": {},
          "execution_count": 10
        }
      ]
    },
    {
      "cell_type": "code",
      "source": [],
      "metadata": {
        "id": "ZzIv9zLPNaON"
      },
      "execution_count": null,
      "outputs": []
    }
  ],
  "metadata": {
    "colab": {
      "name": "Welcome To Colab",
      "provenance": []
    },
    "kernelspec": {
      "display_name": "Python 3",
      "name": "python3"
    }
  },
  "nbformat": 4,
  "nbformat_minor": 0
}